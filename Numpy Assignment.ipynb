{
 "cells": [
  {
   "cell_type": "markdown",
   "id": "aafad3ff-a794-4faa-9c25-d4f75a496481",
   "metadata": {},
   "source": [
    "#Answer of Questions\n",
    "#1)\n",
    "A Python library is a collection of pre-written code that provides functionalities to perform specific tasks or solve particular problems.\n",
    "\n",
    "USE-It makes Python Programming simpler and convenient for the programmer.\n",
    "\n"
   ]
  },
  {
   "cell_type": "markdown",
   "id": "3a22f512-3cdb-4ab5-8c2d-0d316019a20c",
   "metadata": {},
   "source": [
    "#2)\n",
    "NumPy arrays offer superior performance and functionality for numerical computing tasks, while lists provide more flexibility for general-purpose programming and working with heterogeneous data types. "
   ]
  },
  {
   "cell_type": "code",
   "execution_count": 5,
   "id": "37d9850d-f953-4609-995d-ec39ba5b9d9a",
   "metadata": {},
   "outputs": [
    {
     "name": "stdout",
     "output_type": "stream",
     "text": [
      "(3, 4)\n",
      "12\n",
      "2\n"
     ]
    }
   ],
   "source": [
    "#3)\n",
    "import numpy as np\n",
    "\n",
    "arr = np.array([[1, 2, 3, 4], [5, 6, 7, 8],[9,10,11,12]])\n",
    "\n",
    "print(arr.shape)\n",
    "print(arr.size)\n",
    "print(arr.ndim)"
   ]
  },
  {
   "cell_type": "code",
   "execution_count": 9,
   "id": "81b4dfcc-8ccb-4940-b267-9d634294a11c",
   "metadata": {},
   "outputs": [
    {
     "name": "stdout",
     "output_type": "stream",
     "text": [
      "[1, 2, 3, 4]\n"
     ]
    }
   ],
   "source": [
    "#4)\n",
    "array = [[1, 2, 3, 4],\n",
    "         [5, 6, 7, 8],\n",
    "         [9, 10, 11, 12]]\n",
    "\n",
    "first_row = array[0]\n",
    "print(first_row)"
   ]
  },
  {
   "cell_type": "code",
   "execution_count": 17,
   "id": "6f6030f9-e516-4cda-8577-b500985bcf36",
   "metadata": {},
   "outputs": [
    {
     "name": "stdout",
     "output_type": "stream",
     "text": [
      "element in third row and fourth column: 12\n"
     ]
    }
   ],
   "source": [
    "#5)\n",
    "array = [[1, 2, 3, 4],\n",
    "         [5, 6, 7, 8],\n",
    "         [9, 10, 11, 12]]\n",
    "\n",
    "np_array = np.array(array)\n",
    "element= np_array[2,3]\n",
    "print(\"element in third row and fourth column:\",element)"
   ]
  },
  {
   "cell_type": "code",
   "execution_count": 19,
   "id": "97c05e00-a463-4f15-b072-ccb3f355eb5f",
   "metadata": {},
   "outputs": [
    {
     "name": "stdout",
     "output_type": "stream",
     "text": [
      "[[ 2  4]\n",
      " [ 6  8]\n",
      " [10 12]]\n"
     ]
    }
   ],
   "source": [
    "#6)\n",
    "import numpy as np\n",
    "array=np.array([[1, 2, 3, 4],\n",
    "               [5, 6, 7, 8],\n",
    "               [9, 10, 11, 12]])\n",
    "odd_index_elements = array[:, 1::2]\n",
    "print(odd_index_elements)"
   ]
  },
  {
   "cell_type": "code",
   "execution_count": 22,
   "id": "17f7dc28-dfee-4a59-a5a9-f1fb3e20e909",
   "metadata": {},
   "outputs": [
    {
     "name": "stdout",
     "output_type": "stream",
     "text": [
      "Random 3x3 matrix with values between 0 and 1:\n",
      "[[0.40357166 0.75849944 0.08240553]\n",
      " [0.14683107 0.07640866 0.62208876]\n",
      " [0.28854879 0.40900418 0.09122473]]\n"
     ]
    }
   ],
   "source": [
    "#7)\n",
    "import numpy as np\n",
    "random_matrix = np.random.rand(3, 3)\n",
    "print(\"Random 3x3 matrix with values between 0 and 1:\")\n",
    "print(random_matrix)"
   ]
  },
  {
   "cell_type": "markdown",
   "id": "bb1a70f1-9cd0-43d4-bb8d-dc227b4c55db",
   "metadata": {},
   "source": [
    "#8)\n",
    "\n",
    "\n",
    "import numpy as np\n",
    "random_matrix = np.random.rand(3, 3)\n",
    "This function generates random numbers from a uniform distribution over the half-open interval [0.0, 1.0)\n",
    "                                                                                                   \n",
    "import numpy as np\n",
    "random_matrix = np.random.randn(3, 3)\n",
    "This function generates random numbers from a standard normal distribution (mean = 0, standard deviation = 1).                                                                                                \n",
    "                                                                                                \n",
    "                                                                                                "
   ]
  },
  {
   "cell_type": "code",
   "execution_count": 3,
   "id": "041888f9-c458-49fc-b849-2efbfb58f20b",
   "metadata": {},
   "outputs": [
    {
     "name": "stdout",
     "output_type": "stream",
     "text": [
      "Original array:\n",
      "[[ 1  2  3  4]\n",
      " [ 5  6  7  8]\n",
      " [ 9 10 11 12]]\n",
      "\n",
      "Array after increasing dimension:\n",
      "[[[ 1  2  3  4]\n",
      "  [ 5  6  7  8]\n",
      "  [ 9 10 11 12]]]\n"
     ]
    }
   ],
   "source": [
    "#9)\n",
    "import numpy as np\n",
    "array = np.array([[1, 2, 3, 4],\n",
    "                  [5, 6, 7, 8],\n",
    "                  [9, 10, 11, 12]])\n",
    "expanded_array = np.expand_dims(array, axis=0)\n",
    "print(\"Original array:\")\n",
    "print(array)\n",
    "\n",
    "print(\"\\nArray after increasing dimension:\")\n",
    "print(expanded_array)\n",
    "\n"
   ]
  },
  {
   "cell_type": "code",
   "execution_count": 4,
   "id": "afd2649d-31fb-40d9-94a3-d96f9f311c68",
   "metadata": {},
   "outputs": [
    {
     "name": "stdout",
     "output_type": "stream",
     "text": [
      "Original array:\n",
      "[[ 1  2  3  4]\n",
      " [ 5  6  7  8]\n",
      " [ 9 10 11 12]]\n",
      "\n",
      "Transposed array:\n",
      "[[ 1  5  9]\n",
      " [ 2  6 10]\n",
      " [ 3  7 11]\n",
      " [ 4  8 12]]\n"
     ]
    }
   ],
   "source": [
    "#10)\n",
    "import numpy as np\n",
    "array = np.array([[1, 2, 3, 4],\n",
    "                  [5, 6, 7, 8],\n",
    "                  [9, 10, 11, 12]])\n",
    "transposed_array = np.transpose(array)\n",
    "\n",
    "print(\"Original array:\")\n",
    "print(array)\n",
    "\n",
    "print(\"\\nTransposed array:\")\n",
    "print(transposed_array)\n"
   ]
  },
  {
   "cell_type": "code",
   "execution_count": 5,
   "id": "74091bf7-bf9e-4b65-87ab-92c435818b8d",
   "metadata": {},
   "outputs": [
    {
     "name": "stdout",
     "output_type": "stream",
     "text": [
      "Matrix Addition Result:\n",
      "[[ 2  4  6  8]\n",
      " [10 12 14 16]\n",
      " [18 20 22 24]]\n",
      "\n",
      "Matrix Multiplication Result:\n",
      "[[ 30  70 110]\n",
      " [ 70 174 278]\n",
      " [110 278 446]]\n",
      "\n",
      "Matrix Subtraction Result:\n",
      "[[0 0 0 0]\n",
      " [0 0 0 0]\n",
      " [0 0 0 0]]\n",
      "\n",
      "Element-wise Division Result (B / A):\n",
      "[[1. 1. 1. 1.]\n",
      " [1. 1. 1. 1.]\n",
      " [1. 1. 1. 1.]]\n"
     ]
    }
   ],
   "source": [
    "#11)\n",
    "import numpy as np\n",
    "A = np.array([[1, 2, 3, 4],\n",
    "              [5, 6, 7, 8],\n",
    "              [9, 10, 11, 12]])\n",
    "\n",
    "B = np.array([[1, 2, 3, 4],\n",
    "              [5, 6, 7, 8],\n",
    "              [9, 10, 11, 12]])\n",
    "\n",
    "addition_result = A + B\n",
    "\n",
    "multiplication_result = np.dot(A, B.T) \n",
    "\n",
    "subtraction_result = A - B\n",
    "\n",
    "division_result = B / A\n",
    "\n",
    "print(\"Matrix Addition Result:\")\n",
    "print(addition_result)\n",
    "print(\"\\nMatrix Multiplication Result:\")\n",
    "print(multiplication_result)\n",
    "print(\"\\nMatrix Subtraction Result:\")\n",
    "print(subtraction_result)\n",
    "print(\"\\nElement-wise Division Result (B / A):\")\n",
    "print(division_result)\n"
   ]
  },
  {
   "cell_type": "markdown",
   "id": "64bd4e17-232b-42b7-a858-2dbfd227adea",
   "metadata": {},
   "source": [
    "#12)\n",
    "np.ndarray.byteswap()\n"
   ]
  },
  {
   "cell_type": "markdown",
   "id": "255ff7c9-72fa-4967-9fa0-4dc4df254b61",
   "metadata": {},
   "source": [
    "#13)\n",
    "We use numpy. linalg. inv() function to calculate the inverse of a matrix."
   ]
  },
  {
   "cell_type": "code",
   "execution_count": 6,
   "id": "40c52681-221b-4bda-916e-21dbcf8958fe",
   "metadata": {},
   "outputs": [
    {
     "name": "stdout",
     "output_type": "stream",
     "text": [
      "Reshaped to 2D array:\n",
      "[[1 2 3]\n",
      " [4 5 6]]\n",
      "\n",
      "Reshaped to 3D array:\n",
      "[[1 2]\n",
      " [3 4]\n",
      " [5 6]]\n",
      "\n",
      "Reshaped to 3D array with column-major order:\n",
      "[[1 4]\n",
      " [2 5]\n",
      " [3 6]]\n"
     ]
    }
   ],
   "source": [
    "#14)\n",
    "# Use-to create a new array of the same size (as the original array) but of different desired dimensions.\n",
    "# How to Use\n",
    "import numpy as np\n",
    "arr_1d = np.array([1, 2, 3, 4, 5, 6])\n",
    "\n",
    "reshaped_2d = np.reshape(arr_1d, (2, 3))\n",
    "print(\"Reshaped to 2D array:\")\n",
    "print(reshaped_2d)\n",
    "\n",
    "reshaped_3d = np.reshape(arr_1d, (3, 2))\n",
    "print(\"\\nReshaped to 3D array:\")\n",
    "print(reshaped_3d)\n",
    "\n",
    "reshaped_3d_f_order = np.reshape(arr_1d, (3, 2), order='F')\n",
    "print(\"\\nReshaped to 3D array with column-major order:\")\n",
    "print(reshaped_3d_f_order)\n"
   ]
  },
  {
   "cell_type": "markdown",
   "id": "c127b6ba-5132-4f7a-b43c-fdf77438364c",
   "metadata": {},
   "source": [
    "#15)\n",
    "The term brooadcasting describes how NumPy treats arrays with different shapes during arithmetic operations."
   ]
  }
 ],
 "metadata": {
  "kernelspec": {
   "display_name": "Python 3 (ipykernel)",
   "language": "python",
   "name": "python3"
  },
  "language_info": {
   "codemirror_mode": {
    "name": "ipython",
    "version": 3
   },
   "file_extension": ".py",
   "mimetype": "text/x-python",
   "name": "python",
   "nbconvert_exporter": "python",
   "pygments_lexer": "ipython3",
   "version": "3.10.8"
  }
 },
 "nbformat": 4,
 "nbformat_minor": 5
}
